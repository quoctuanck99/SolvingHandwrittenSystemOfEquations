{
 "cells": [
  {
   "cell_type": "code",
   "execution_count": 1,
   "metadata": {},
   "outputs": [],
   "source": [
    "import torch\n",
    "import argparse\n",
    "import time\n",
    "from pathlib import Path\n",
    "\n",
    "import cv2\n",
    "import torch\n",
    "import torch.backends.cudnn as cudnn\n",
    "from numpy import random\n",
    "\n",
    "from models.experimental import attempt_load\n",
    "from utils.datasets import LoadStreams, LoadImages\n",
    "from utils.general import check_img_size, non_max_suppression, apply_classifier, scale_coords, xyxy2xywh, \\\n",
    "    strip_optimizer, set_logging, increment_path\n",
    "from utils.plots import plot_one_box\n",
    "from utils.torch_utils import select_device, load_classifier, time_synchronized\n",
    "import numpy as np\n",
    "import matplotlib.pyplot as plt\n",
    "import os\n",
    "import collections\n",
    "import time\n",
    "from PIL import Image\n",
    "\n",
    "def detect(opt):\n",
    "    res=[]\n",
    "    source, weights, view_img, save_txt, imgsz = opt.source, opt.weights, opt.view_img, opt.save_txt, opt.img_size\n",
    "    webcam = source.isnumeric() or source.endswith('.txt') or source.lower().startswith(\n",
    "        ('c://', 'rtmp://', 'http://'))\n",
    "\n",
    "    # Directories\n",
    "    save_dir = Path(increment_path(Path(opt.project) / opt.name, exist_ok=opt.exist_ok))  # increment run\n",
    "    (save_dir / 'labels' if save_txt else save_dir).mkdir(parents=True, exist_ok=True)  # make dir\n",
    "\n",
    "    # Initialize\n",
    "    set_logging()\n",
    "    device = select_device(opt.device)\n",
    "    half = device.type != 'cpu'  # half precision only supported on CUDA\n",
    "\n",
    "    # Load model\n",
    "    model = attempt_load(weights, map_location=device)  # load FP32 model\n",
    "    imgsz = check_img_size(imgsz, s=model.stride.max())  # check img_size\n",
    "    if half:\n",
    "        model.half()  # to FP16\n",
    "\n",
    "    # Second-stage classifier\n",
    "    classify = False\n",
    "    if classify:\n",
    "        modelc = load_classifier(name='resnet101', n=2)  # initialize\n",
    "        modelc.load_state_dict(torch.load('weights/resnet101.pt', map_location=device)['model']).to(device).eval()\n",
    "\n",
    "    # Set Dataloader\n",
    "    vid_path, vid_writer = None, None\n",
    "    if webcam:\n",
    "        view_img = True\n",
    "        cudnn.benchmark = True  # set True to speed up constant image size inference\n",
    "        dataset = LoadStreams(source, img_size=imgsz)\n",
    "    else:\n",
    "        save_img = True\n",
    "        dataset = LoadImages(source, img_size=imgsz)\n",
    "\n",
    "    # Get names and colors\n",
    "    names = model.module.names if hasattr(model, 'module') else model.names\n",
    "    colors = [[random.randint(0, 255) for _ in range(3)] for _ in names]\n",
    "\n",
    "    # Run inference\n",
    "    t0 = time.time()\n",
    "    img = torch.zeros((1, 3, imgsz, imgsz), device=device)  # init img\n",
    "    _ = model(img.half() if half else img) if device.type != 'cpu' else None  # run once\n",
    "    for path, img, im0s, vid_cap in dataset:\n",
    "        img = torch.from_numpy(img).to(device)\n",
    "        img = img.half() if half else img.float()  # uint8 to fp16/32\n",
    "        img /= 255.0  # 0 - 255 to 0.0 - 1.0\n",
    "        if img.ndimension() == 3:\n",
    "            img = img.unsqueeze(0)\n",
    "\n",
    "        # Inference\n",
    "        t1 = time_synchronized()\n",
    "        pred = model(img, augment=opt.augment)[0]\n",
    "\n",
    "        # Apply NMS\n",
    "        pred = non_max_suppression(pred, opt.conf_thres, opt.iou_thres, classes=opt.classes, agnostic=opt.agnostic_nms)\n",
    "        t2 = time_synchronized()\n",
    "\n",
    "        # Apply Classifier\n",
    "        if classify:\n",
    "            pred = apply_classifier(pred, modelc, img, im0s)\n",
    "\n",
    "        # Process detections\n",
    "        for i, det in enumerate(pred):  # detections per image\n",
    "            if webcam:  # batch_size >= 1\n",
    "                p, s, im0, frame = path[i], '%g: ' % i, im0s[i].copy(), dataset.count\n",
    "            else:\n",
    "                p, s, im0, frame = path, '', im0s, getattr(dataset, 'frame', 0)\n",
    "\n",
    "            p = Path(p)  # to Path\n",
    "            save_path = str(save_dir / p.name)  # img.jpg\n",
    "            txt_path = str(save_dir / 'labels' / p.stem) + ('' if dataset.mode == 'image' else f'_{frame}')  # img.txt\n",
    "            s += '%gx%g ' % img.shape[2:]  # print string\n",
    "            gn = torch.tensor(im0.shape)[[1, 0, 1, 0]]  # normalization gain whwh\n",
    "            if len(det):\n",
    "                # Rescale boxes from img_size to im0 size\n",
    "                det[:, :4] = scale_coords(img.shape[2:], det[:, :4], im0.shape).round()\n",
    "\n",
    "                # Print results\n",
    "                for c in det[:, -1].unique():\n",
    "                    n = (det[:, -1] == c).sum()  # detections per class\n",
    "                    s += f'{n} {names[int(c)]}s, '  # add to string\n",
    "\n",
    "                # Write results\n",
    "                for *xyxy, conf, cls in reversed(det):\n",
    "                    if save_txt:  # Write to file\n",
    "                        xywh = (xyxy2xywh(torch.tensor(xyxy).view(1, 4)) / gn).view(-1).tolist()  # normalized xywh\n",
    "                        line = (cls, *xywh, conf) if opt.save_conf else (cls, *xywh)  # label format\n",
    "                        with open(txt_path + '.txt', 'a') as f:\n",
    "                            f.write(('%g ' * len(line)).rstrip() % line + '\\n')\n",
    "\n",
    "                    if save_img or view_img:  # Add bbox to image\n",
    "                        label = f'{names[int(cls)]} {conf:.2f}'\n",
    "                        plot_one_box(xyxy, im0, label=label, color=colors[int(cls)], line_thickness=3)\n",
    "#                     res.append(xyxy)\n",
    "                    temp=[]\n",
    "                    for i in xyxy:\n",
    "                        temp.append(float(i))\n",
    "                    res.append(temp)\n",
    "            # Print time (inference + NMS)\n",
    "            print(f'{s}Done. ({t2 - t1:.3f}s)')\n",
    "\n",
    "            # Stream results\n",
    "            if view_img:\n",
    "                cv2.imshow(str(p), im0)\n",
    "                if cv2.waitKey(1) == ord('q'):  # q to quit\n",
    "                    raise StopIteration\n",
    "            plt.imshow(im0)\n",
    "            plt.show()\n",
    "            # Save results (image with detections)\n",
    "            if save_img:\n",
    "                if dataset.mode == 'image':\n",
    "                    cv2.imwrite(save_path, im0)\n",
    "                else:  # 'video'\n",
    "                    if vid_path != save_path:  # new video\n",
    "                        vid_path = save_path\n",
    "                        if isinstance(vid_writer, cv2.VideoWriter):\n",
    "                            vid_writer.release()  # release previous video writer\n",
    "\n",
    "                        fourcc = 'mp4v'  # output video codec\n",
    "                        fps = vid_cap.get(cv2.CAP_PROP_FPS)\n",
    "                        w = int(vid_cap.get(cv2.CAP_PROP_FRAME_WIDTH))\n",
    "                        h = int(vid_cap.get(cv2.CAP_PROP_FRAME_HEIGHT))\n",
    "                        vid_writer = cv2.VideoWriter(save_path, cv2.VideoWriter_fourcc(*fourcc), fps, (w, h))\n",
    "                    vid_writer.write(im0)\n",
    "\n",
    "    if save_txt or save_img:\n",
    "        s = f\"\\n{len(list(save_dir.glob('labels/*.txt')))} labels saved to {save_dir / 'labels'}\" if save_txt else ''\n",
    "        print(f\"Results saved to {save_dir}{s}\")\n",
    "\n",
    "    print(f'Done. ({time.time() - t0:.3f}s)')\n",
    "    return res"
   ]
  },
  {
   "cell_type": "code",
   "execution_count": 2,
   "metadata": {},
   "outputs": [],
   "source": [
    "def predict(weights,source,conf):\n",
    "    parser = argparse.ArgumentParser()\n",
    "    parser.add_argument('--weights', nargs='+', type=str, default=weights, help='model.pt path(s)')\n",
    "    parser.add_argument('--source', type=str, default=source, help='source')  # file/folder, 0 for webcam\n",
    "    parser.add_argument('--img-size', type=int, default=640, help='inference size (pixels)')\n",
    "    parser.add_argument('--conf-thres', type=float, default=conf, help='object confidence threshold')\n",
    "    parser.add_argument('--iou-thres', type=float, default=0.35, help='IOU threshold for NMS')\n",
    "    parser.add_argument('--device', default='', help='cuda device, i.e. 0 or 0,1,2,3 or cpu')\n",
    "    parser.add_argument('--view-img', action='store_true', help='display results')\n",
    "    parser.add_argument('--save-txt', action='store_true', help='save results to *.txt')\n",
    "    parser.add_argument('--save-conf', action='store_true', help='save confidences in --save-txt labels')\n",
    "    parser.add_argument('--classes', nargs='+', type=int, help='filter by class: --class 0, or --class 0 2 3')\n",
    "    parser.add_argument('--agnostic-nms', action='store_true', help='class-agnostic NMS')\n",
    "    parser.add_argument('--augment', action='store_true', help='augmented inference')\n",
    "    parser.add_argument('--update', action='store_true', help='update all models')\n",
    "    parser.add_argument('--project', default='runs/detect', help='save results to project/name')\n",
    "    parser.add_argument('--name', default='exp', help='save results to project/name')\n",
    "    parser.add_argument('--exist-ok', action='store_true', help='existing project/name ok, do not increment')\n",
    "    opt, unknown = parser.parse_known_args()\n",
    "    print(opt)\n",
    "    return detect(opt=opt)"
   ]
  },
  {
   "cell_type": "code",
   "execution_count": 3,
   "metadata": {},
   "outputs": [],
   "source": [
    "def getBounding(path):\n",
    "    %matplotlib inline\n",
    "    count=0\n",
    "    abc=predict(r'weights\\eq_detection\\equations_detection-2912.pt',path,0.72)\n",
    "    image = cv2.imread(path, cv2.COLOR_BGR2RGB)\n",
    "    image1= cv2.imread(path, cv2.COLOR_BGR2RGB)\n",
    "    plt.imshow(image)\n",
    "    plt.show()\n",
    "    xs=[]\n",
    "    ys=[]\n",
    "    crop_img=[]\n",
    "    color=(255,255,0)\n",
    "    ###########################\n",
    "    #Print each equations:\n",
    "    for i in abc:\n",
    "        i=[int(j) for j in i]\n",
    "        xs+=[i[0],i[2]]\n",
    "        ys+=[i[1],i[3]]\n",
    "        crop_img.append(image1[i[1]:i[3],int(i[0]):i[2]].copy())\n",
    "        image = cv2.rectangle(image, (i[0],i[1]), (i[2],i[3]), color, 3) \n",
    "    count=0\n",
    "    rd=str(int(time.time()))\n",
    "    foldername=r\"static/single_eq/\"\n",
    "    currentpath=foldername+rd\n",
    "    os.makedirs(currentpath)\n",
    "    for i in crop_img:\n",
    "        im = Image.fromarray(i)\n",
    "        im.save(currentpath+'/'+str(count)+\".jpg\")\n",
    "        count+=1\n",
    "    crop_chars=[]  \n",
    "    print(currentpath)\n",
    "    for i in os.listdir(currentpath):\n",
    "        abc=predict(r\"weights\\eq_detection\\character_detection_weights.pt\",currentpath+'/'+i,0.3)\n",
    "        image = cv2.imread(currentpath+'/'+i, cv2.COLOR_BGR2RGB)\n",
    "        temp={}\n",
    "        for j in abc:\n",
    "            j=[int(k) for k in j]\n",
    "    #        crop_chars.append(image[j[1]:j[3],j[0]:j[2]].copy())\n",
    "#             if(not (j[0] in range(5)) and not (j[2] in range(10))):\n",
    "            print('>>>>>>>>>>>>>>>>>>>>>>>>>>>>>>>>>>>>>>>>>>>>>>>>>>>start-x',j[0],'w=',j[2])\n",
    "            if(not (j[0] in range(2)) and not (j[2] in range(10))):\n",
    "                temp[j[0]]=image[j[1]:j[3],j[0]:j[2]].copy()\n",
    "            else:\n",
    "                print(\"dayyyyyyyyyyyyyy\")\n",
    "                plt.imshow(image[j[1]:j[3],j[0]:j[2]])\n",
    "                plt.show()\n",
    "        od = collections.OrderedDict(sorted(temp.items()))\n",
    "        _=[]\n",
    "        for k,v in od.items(): \n",
    "            _.append(v)\n",
    "        crop_chars.append(_)\n",
    "    for i in crop_chars:\n",
    "        for j in i:\n",
    "            plt.imshow(j)\n",
    "            plt.show()\n",
    "    print(\">>>>>>>>>>>>>>>>>>>>\"+str(count))\n",
    "    return crop_chars,['static/single_eq/'+rd+'/'+str(i)+'.jpg' for i in range(count)]"
   ]
  },
  {
   "cell_type": "code",
   "execution_count": 4,
   "metadata": {},
   "outputs": [],
   "source": [
    "import numpy as np\n",
    "def rgb2gray(rgb):\n",
    "    r, g, b = rgb[:,:,0], rgb[:,:,1], rgb[:,:,2]\n",
    "    gray = 0.2989 * r + 0.5870 * g + 0.1140 * b\n",
    "    return gray\n",
    "chars_range={0:'0', 1:'1', 2:'2', 3:'3', 4:'4', 5:'5', 6:'6', 7:'7', 8:'8', 9:'9', 10:'x', 11:'y', 12:'z', 13:'a', 14:'b', 15:'-', 16:'=', 17:'+'}"
   ]
  },
  {
   "cell_type": "code",
   "execution_count": 5,
   "metadata": {},
   "outputs": [],
   "source": [
    "from skimage.filters import threshold_yen\n",
    "from skimage.exposure import rescale_intensity\n",
    "from skimage.io import imread, imsave\n",
    "import matplotlib.pyplot as plt\n",
    "import cv2\n",
    "import os\n",
    "import numpy as np\n",
    "def preprocessingImgs(crop_imgs):\n",
    "    ims=[]\n",
    "    for i in crop_imgs:\n",
    "        temp=[]\n",
    "        for j in i:\n",
    "            h, w, c = j.shape\n",
    "            img=rgb2gray(j)\n",
    "            yen_threshold = threshold_yen(img)\n",
    "            img = rescale_intensity(img, (0, yen_threshold), (0, 255))\n",
    "            thresh = 220\n",
    "            img = cv2.threshold(img, thresh, 255, cv2.THRESH_BINARY_INV)[1]\n",
    "#         img = cv2.bitwise_not(img)\n",
    "            height, width= img.shape\n",
    "            img=img.reshape(height,width,1)\n",
    "            height, width, channels = img.shape\n",
    "#             print((height, width, channels))\n",
    "            pad=0\n",
    "            if(width>height):\n",
    "                left=right=pad\n",
    "                top=bottom=int((width+2*pad-height)/2)\n",
    "            else:\n",
    "                top=bottom=pad\n",
    "                left=right=int((height+2*pad-width)/2)\n",
    "            hhh = cv2.copyMakeBorder(img, top, bottom, left, right, cv2.BORDER_ISOLATED)\n",
    "            h,w=hhh.shape\n",
    "            s=max(h,w)\n",
    "            hhh=cv2.resize(hhh,(s,s))\n",
    "#             print(hhh.shape)\n",
    "            hhh=cv2.resize(hhh,(28,28))\n",
    "            temp.append(hhh.reshape(28,28,1))\n",
    "#             plt.imshow(hhh)\n",
    "#             plt.show()\n",
    "        ims.append(temp)\n",
    "    return [np.array(i) for i in ims]"
   ]
  },
  {
   "cell_type": "code",
   "execution_count": 6,
   "metadata": {},
   "outputs": [],
   "source": [
    "import re as regex\n",
    "import copy\n",
    "def validate(test):\n",
    "    _test=copy.copy(test)\n",
    "#     test=\"x+2y=3 2z-3y--1\"\n",
    "    #######################################valid x=z#######################################\n",
    "    # for i in range(len(test)):\n",
    "    #     if(test[i].isalpha()):\n",
    "    #         variables[test[i]]=test.count(test[i])\n",
    "#     numbers_of_variables=len(list(variables))\n",
    "    numbers_of_valid_variables=len(test.split())\n",
    "    # print(variables)\n",
    "    if(numbers_of_valid_variables==2):\n",
    "        test=test.replace('z','x')\n",
    "        test=test.replace('4=','y=')\n",
    "    #######################################valid = and -#######################################\n",
    "    equations=test.split()\n",
    "    for i in range(len(equations)):\n",
    "        if('--' in equations[i]):\n",
    "            equations[i]=equations[i].replace('--','=-')\n",
    "        if('==' in equations[i]):\n",
    "            equations[i]=equations[i].replace('==','=')\n",
    "        if('-=' in equations[i]):\n",
    "            equations[i]=equations[i].replace('-=','=')\n",
    "        if('=' not in equations[i]):\n",
    "            temp=list(equations[i])\n",
    "            temp[equations[i].rfind('-')]='='\n",
    "            equations[i]=''.join(temp)\n",
    "        ######################################3\n",
    "        while(equations[i].endswith('+') or equations[i].endswith('-') or equations[i].endswith('=')):\n",
    "            equations[i]=equations[i][:-1]\n",
    "        while(equations[i].startswith('+') or equations[i].endswith('-') or equations[i].endswith('=')):\n",
    "            equations[i]=equations[i][1:]\n",
    "        if(len(equations[i].split('=')[-1])!=1):\n",
    "            while('=0' in equations[i]):\n",
    "                equations[i]=equations[i].replace('=0','=')\n",
    "        if(len(equations)==3):\n",
    "            while('2=' in equations[i]):\n",
    "                equations[i]=equations[i].replace('2=','z=')\n",
    "         ######################################3\n",
    "       \n",
    "        MATCH_INVALID=regex.findall('(?:x|y|z)[0-9]',equations[i])\n",
    "        for c in MATCH_INVALID:\n",
    "            while(c in equations[i]):\n",
    "                equations[i]=equations[i].replace(c,c[:-1])\n",
    "    test=' '.join(equations)\n",
    "    print(\"Before: \"+_test+\">>>> After: \"+test)\n",
    "    return test"
   ]
  },
  {
   "cell_type": "code",
   "execution_count": null,
   "metadata": {},
   "outputs": [],
   "source": []
  },
  {
   "cell_type": "code",
   "execution_count": 7,
   "metadata": {},
   "outputs": [],
   "source": [
    "from keras.models import load_model\n",
    "def classify(ims_arr,choice):\n",
    "    conf_threshold=0.3\n",
    "    md = load_model(r\"weights\\classify\\last_weights.h5\")\n",
    "    ims=ims_arr\n",
    "    conf=[]\n",
    "    result=[]\n",
    "    confidences=[]\n",
    "    for i in ims:\n",
    "        result.append(md.predict_classes(i/255.))\n",
    "        confidences.append(md.predict(i/255.))\n",
    "    f=\"\"\n",
    "    _result=[]\n",
    "    for i in range(len(ims_arr)):\n",
    "        _t=[]\n",
    "        for j in range(len(ims_arr[i])):\n",
    "            print(chars_range[result[i][j]],' | ',max(confidences[i][j]))\n",
    "            if(max(confidences[i][j])>=conf_threshold):\n",
    "                _t.append([chars_range[result[i][j]],max(confidences[i][j])]) \n",
    "            plt.imshow(ims_arr[i][j])\n",
    "            plt.show()\n",
    "        _result.append(_t)\n",
    "    \n",
    "    for i in _result:\n",
    "        for j in i:\n",
    "            f+=j[0]\n",
    "        f+=\" \"\n",
    "    f=f.strip()\n",
    "    if(choice==0):\n",
    "        f=validate(f)\n",
    "    else:\n",
    "        f=validate2(f)\n",
    "    print(f)\n",
    "    return f.split()"
   ]
  },
  {
   "cell_type": "code",
   "execution_count": 8,
   "metadata": {},
   "outputs": [],
   "source": [
    "from sympy import solve, Poly, Eq, Function, exp\n",
    "from sympy.abc import x, y, z, a, b\n",
    "from sympy import *\n",
    "from sympy.parsing.sympy_parser import parse_expr\n",
    "def process_str(x, i) :\n",
    "    list_type = []\n",
    "    for a in x :\n",
    "        if a.isalpha() :\n",
    "            list_type.append(2)\n",
    "        if a.isnumeric() :\n",
    "            list_type.append(1) \n",
    "        if a in [\"+\", \"-\"] :\n",
    "            list_type.append(0)\n",
    "    string = \"\"\n",
    "    for b in range(len(list_type)-1) :\n",
    "        if list_type[b] ==1 and list_type[b+1] == 2 :\n",
    "            string += x[b] + \"*\"\n",
    "        elif list_type[b] == 2 and list_type[b+1] == 2 :\n",
    "            string += x[b] + \"*\" \n",
    "        elif list_type[b] == 2 and list_type[b+1] == 1 :\n",
    "            string += x[b] + \"**\"\n",
    "        else :\n",
    "            string += x[b]\n",
    "    string += x[-1]\n",
    "\n",
    "    if i == 1:\n",
    "        if string[0] == \"+\" :\n",
    "            string = \"-\" + string[1:]\n",
    "        else :\n",
    "            string = \"+\" + string[1:]\n",
    "    return string\n",
    "def eq_solver(equation) :\n",
    "    list_eq = []\n",
    "    for eq in equation :\n",
    "        string = \"\"\n",
    "        #left : 0 , right : 1\n",
    "        for i, side in enumerate(eq.split(\"=\")) :\n",
    "            if side[0] not in [\"+\", \"-\"] :\n",
    "                side = \"+\" + side\n",
    "            pos_sign = [i for i, char in enumerate(side) if char in [\"+\",\"-\"]]\n",
    "            pos_sign.append(len(side))\n",
    "            \n",
    "            for j in range(len(pos_sign)-1) :\n",
    "                string += process_str(side[pos_sign[j] : pos_sign[j+1]], i)\n",
    "        list_eq.append(string)\n",
    "    print('list equation:',list_eq)\n",
    "    result = solve([parse_expr(i) for i in list_eq]) \n",
    "\n",
    "    #print(result)\n",
    "    str_result = \"\"\n",
    "    if type(result) == dict :\n",
    "        for i,key in enumerate(result) :\n",
    "            if i == 0 :\n",
    "                if len(result) == 1:\n",
    "                    str_result += \"( {} = {} )\".format(latex(key), latex(result[key]))\n",
    "                else :\n",
    "                    str_result += \"( {} = {} ,\".format(latex(key), latex(result[key]))\n",
    "            elif i == len(result) -1 :\n",
    "                str_result += \" {} = {} )\".format(latex(key), latex(result[key]))\n",
    "            else:\n",
    "                str_result += \" {} = {} ,\".format(latex(key), latex(result[key]))\n",
    "        return [str_result]\n",
    "            \n",
    "    else :\n",
    "        if len(result) == 0 :\n",
    "            return [\"The\\ equation\\ has\\ no\\ solution!\"]\n",
    "        list_result = []\n",
    "        for r in result : \n",
    "            str_result = \"\"\n",
    "            for i, key in enumerate(r) :\n",
    "                if i == 0 :\n",
    "                    if len(r) == 1:\n",
    "                        str_result += \"( {} = {} )\".format(latex(key), latex(r[key]))\n",
    "                    else :\n",
    "                        str_result += \"( {} = {} ,\".format(latex(key), latex(r[key]))\n",
    "                elif i == len(r) -1 :\n",
    "                    str_result += \" {} = {} )\".format(latex(key), latex(r[key]))\n",
    "                else:\n",
    "                    str_result += \" {} = {} ,\".format(latex(key), latex(r[key]))\n",
    "         #Replace \"//\" to \"/\"\n",
    "            list_result.append(str_result)\n",
    "        return list_result"
   ]
  },
  {
   "cell_type": "code",
   "execution_count": 9,
   "metadata": {},
   "outputs": [],
   "source": [
    "def convertToLatext(formula):\n",
    "    import requests\n",
    "    headers = {\n",
    "        \"Content-type\": \"application/x-www-form-urlencoded\",\n",
    "    }\n",
    "    data = {\n",
    "        \"auth\": {\n",
    "            \"user\": \"guest\",\n",
    "            \"password\": \"guest\"\n",
    "        },\n",
    "        \"latex\": formula,\n",
    "        \"resolution\": 600,\n",
    "        \"color\": \"000000\"\n",
    "    }\n",
    "    r = requests.post('http://latex2png.com/api/convert', headers=headers, json=data) # the right way to send POST requests\n",
    "    print(r.json())  # print the json\n",
    "    image_url = \"http://latex2png.com\" + r.json()['url']\n",
    "    return image_url"
   ]
  },
  {
   "cell_type": "code",
   "execution_count": 10,
   "metadata": {},
   "outputs": [],
   "source": [
    "def cropChar_using_Countours(path):\n",
    "    %matplotlib inline\n",
    "    image=cv2.imread(path,cv2.COLOR_BGR2GRAY)\n",
    "    image=rgb2gray(image)\n",
    "    yen_threshold = threshold_yen(image)\n",
    "    image = rescale_intensity(image, (0, yen_threshold), (0, 255))\n",
    "    thresh = 230\n",
    "    image = cv2.threshold(image, thresh, 255, cv2.THRESH_BINARY_INV)[1]\n",
    "    plt.imshow(image)\n",
    "    plt.show()\n",
    "######################################################################################################################3\n",
    "    cv2.imwrite(path,image)\n",
    "    image = cv2.imread(path)\n",
    "    im_gray = cv2.cvtColor(image,cv2.COLOR_BGR2GRAY)\n",
    "    im_blur = cv2.GaussianBlur(im_gray,(5,5),0)\n",
    "    im,thre = cv2.threshold(im_blur,100,255,cv2.THRESH_BINARY)\n",
    "    contours,hierachy = cv2.findContours(thre,cv2.RETR_EXTERNAL,cv2.CHAIN_APPROX_SIMPLE)\n",
    "    rects = [cv2.boundingRect(cnt) for cnt in contours]\n",
    "    # print(len(rects))\n",
    "    # rects,weights = cv2.groupRectangles(rects, 1, 1.75)\n",
    "    print(len(rects))\n",
    "    # print(contours)\n",
    "    cropimg=[]\n",
    "    image_c=image.copy()\n",
    "    temp={}\n",
    "    crop_chars=[]\n",
    "    s=0\n",
    "    for i in rects:\n",
    "        (x,y,w,h) = i\n",
    "        s=s+h*w\n",
    "    s=s/len(rects)\n",
    "    print(\"S_avg=\",h*w)\n",
    "    for i in rects:\n",
    "        (x,y,w,h) = i\n",
    "        if(w*h>s*1/10):\n",
    "            print(\"s=\",w*h)\n",
    "            crop = image_c[y:y+h,x:x+w]\n",
    "#             plt.imshow(crop)\n",
    "#             plt.show()\n",
    "            cropimg.append(crop)\n",
    "#     j=[int(k) for k in j]\n",
    "#             if(not (x in range(5)) and not (w in range(10))):\n",
    "            print('>>>>>>>>>>>>>>>>>>>>>>>>>>>>>>>>>>>>>>>>>>>>>>>>>>>start-x',x,'w=',w)\n",
    "            if(not (x in range(2)) and not (w in range(10))):\n",
    "                temp[x]=image_c[y:y+h,x:x+w].copy()\n",
    "#             print(\"x0====================\",x)\n",
    "#     plt.imshow(image)\n",
    "#     plt.show()\n",
    "    od = collections.OrderedDict(sorted(temp.items()))    \n",
    "    for k,v in od.items(): \n",
    "        crop_chars.append(v)\n",
    "    crops=[]\n",
    "    count=0\n",
    "    for i in crop_chars:\n",
    "        height, width,_ = i.shape\n",
    "        pad=10\n",
    "        if(width>height):\n",
    "            left=right=pad\n",
    "            top=bottom=int((width+2*pad-height)/2)\n",
    "        else:\n",
    "            top=bottom=pad\n",
    "            left=right=int((height+2*pad-width)/2)\n",
    "        hhh = cv2.copyMakeBorder( i, top, bottom, left, right, cv2.BORDER_CONSTANT)\n",
    "        h,w,_=hhh.shape\n",
    "        s=max(h,w)\n",
    "        hhh=cv2.resize(hhh,(s,s))\n",
    "        hhh=cv2.resize(hhh,(28,28))\n",
    "        tuankq=hhh\n",
    "        count=count+1\n",
    "        print(\">>>>>>>>>\",hhh.shape)\n",
    "        __=cv2.cvtColor(hhh,cv2.COLOR_RGBA2GRAY)\n",
    "        __=np.reshape(__,(28,28,1))\n",
    "#         new_array = cv2.resize(new_array, (28,28,1))\n",
    "#         __=np.reshape(hhh,(28,28,1))\n",
    "        print(__.shape)\n",
    "        crops.append(__)\n",
    "#         plt.imshow(hhh)\n",
    "#         plt.show()\n",
    "    return crops\n",
    "import re as regex\n",
    "def validate2(test):\n",
    "    _test=test\n",
    "#     test=\"x+2y=3 2z-3y--1\"\n",
    "    #######################################valid x=z#######################################\n",
    "    # for i in range(len(test)):\n",
    "    #     if(test[i].isalpha()):\n",
    "    #         variables[test[i]]=test.count(test[i])\n",
    "#     numbers_of_variables=len(list(variables))\n",
    "    numbers_of_valid_variables=len(test.split())\n",
    "    # print(variables)\n",
    "    if(numbers_of_valid_variables==2):\n",
    "        test=test.replace('z','x')\n",
    "        test=test.replace('4=','y=')\n",
    "    #######################################valid = and -#######################################\n",
    "    equations=test.split()\n",
    "    for i in range(len(equations)):\n",
    "        ######################################3\n",
    "        if('--' in equations[i]):\n",
    "            equations[i]=equations[i].replace('--','=')\n",
    "         ######################################3\n",
    "        if('==' in equations[i]):\n",
    "            equations[i]=equations[i].replace('==','=')\n",
    "         ######################################3\n",
    "        if('-=' in equations[i]):\n",
    "            equations[i]=equations[i].replace('-=','=')\n",
    "         ######################################3\n",
    "        if('=' not in equations[i]):\n",
    "            temp=list(equations[i])\n",
    "            temp[equations[i].rfind('-')]='='\n",
    "            equations[i]=''.join(temp)\n",
    "         ######################################3\n",
    "        while(equations[i].endswith('+') or equations[i].endswith('-') or equations[i].endswith('=')):\n",
    "            equations[i]=equations[i][:-1]\n",
    "        while(equations[i].startswith('+') or equations[i].endswith('-') or equations[i].endswith('=')):\n",
    "            equations[i]=equations[i][1:]\n",
    "         ######################################3\n",
    "        MATCH_INVALID=regex.findall('(?:x|y|z)[0-9]',equations[i])\n",
    "        for c in MATCH_INVALID:\n",
    "            while(c in equations[i]):\n",
    "                equations[i]=equations[i].replace(c,c[:-1])\n",
    "        if(len(equations)==3):\n",
    "            while('2=' in equations[i]):\n",
    "                equations[i]=equations[i].replace('2=','z=')\n",
    "    test=' '.join(equations)\n",
    "    print(\"Before: \"+_test+\">>>> After: \"+test)\n",
    "    return test\n",
    "def getBounding2(path):\n",
    "    %matplotlib inline\n",
    "    count=0\n",
    "    abc=predict(r'weights\\eq_detection\\equations_detection-2912.pt',path,0.72)\n",
    "    image = cv2.imread(path, cv2.COLOR_BGR2RGB)\n",
    "    image1= cv2.imread(path, cv2.COLOR_BGR2RGB)\n",
    "    plt.imshow(image)\n",
    "    plt.show()\n",
    "    xs=[]\n",
    "    ys=[]\n",
    "    crop_img=[]\n",
    "    color=(255,255,0)\n",
    "    ###########################\n",
    "    #Print each equations:\n",
    "    for i in abc:\n",
    "        i=[int(j) for j in i]\n",
    "        xs+=[i[0],i[2]]\n",
    "        ys+=[i[1],i[3]]\n",
    "        crop_img.append(image1[i[1]:i[3],int(i[0]):i[2]].copy())\n",
    "        image = cv2.rectangle(image, (i[0],i[1]), (i[2],i[3]), color, 3) \n",
    "    count=0\n",
    "    rd=str(int(time.time()))\n",
    "    foldername=r\"static/single_eq/\"\n",
    "    currentpath=foldername+rd\n",
    "    os.makedirs(currentpath)\n",
    "    for i in crop_img:\n",
    "        im = Image.fromarray(i)\n",
    "        im.save(currentpath+'/'+str(count)+\".jpg\")\n",
    "        count+=1\n",
    "    crop_chars=[]  \n",
    "    print(currentpath)\n",
    "    for i in os.listdir(currentpath):\n",
    "        crop_chars.append(cropChar_using_Countours(currentpath+'/'+i))\n",
    "    return crop_chars,['static/single_eq/'+rd+'/'+str(i)+'.jpg' for i in range(count)]\n",
    "\n",
    "from skimage.filters import threshold_yen\n",
    "from skimage.exposure import rescale_intensity\n",
    "from skimage.io import imread, imsave\n",
    "import matplotlib.pyplot as plt\n",
    "import cv2\n",
    "import os\n",
    "import numpy as np\n",
    "\n",
    "def preprocessingImgs2(crop_imgs):\n",
    "    ims=[]\n",
    "    for i in crop_imgs:\n",
    "        temp=[]\n",
    "        for j in i:\n",
    "            temp.append(j)\n",
    "        ims.append(temp)\n",
    "    return [np.array(i) for i in ims]"
   ]
  },
  {
   "cell_type": "code",
   "execution_count": null,
   "metadata": {},
   "outputs": [
    {
     "name": "stderr",
     "output_type": "stream",
     "text": [
      "Using torch 1.7.1 CUDA:0 (GeForce GTX 1050, 3072.0MB)\n",
      "\n"
     ]
    },
    {
     "name": "stdout",
     "output_type": "stream",
     "text": [
      "hahahahaha 1\n",
      "##################### Using findContours() to detect the characters #####################\n",
      "static\\uploads\\fghfhfgh.jpg\n",
      "Namespace(agnostic_nms=False, augment=False, classes=None, conf_thres=0.72, device='', exist_ok=False, img_size=640, iou_thres=0.35, name='exp', project='runs/detect', save_conf=False, save_txt=False, source='static\\\\uploads\\\\fghfhfgh.jpg', update=False, view_img=False, weights='weights\\\\eq_detection\\\\equations_detection-2912.pt')\n",
      "Fusing layers... \n"
     ]
    },
    {
     "name": "stderr",
     "output_type": "stream",
     "text": [
      "Model Summary: 400 layers, 47364662 parameters, 0 gradients\n"
     ]
    },
    {
     "name": "stdout",
     "output_type": "stream",
     "text": [
      "image 1/1 C:\\Users\\tuankq\\Documents\\Solving handwritten Equations\\static\\uploads\\fghfhfgh.jpg: 640x480 2 equations, Done. (0.100s)\n"
     ]
    },
    {
     "data": {
      "image/png": "[encoded data removed]",
      "text/plain": [
       "<Figure size 432x288 with 1 Axes>"
      ]
     },
     "metadata": {
      "needs_background": "light"
     },
     "output_type": "display_data"
    },
    {
     "name": "stdout",
     "output_type": "stream",
     "text": [
      "Results saved to runs\\detect\\exp2054\n",
      "Done. (0.390s)\n"
     ]
    },
    {
     "data": {
      "image/png": "[encoded data removed]",
      "text/plain": [
       "<Figure size 432x288 with 1 Axes>"
      ]
     },
     "metadata": {
      "needs_background": "light"
     },
     "output_type": "display_data"
    },
    {
     "name": "stdout",
     "output_type": "stream",
     "text": [
      "static/single_eq/1611734349\n"
     ]
    },
    {
     "data": {
      "image/png": "[encoded data removed]",
      "text/plain": [
       "<Figure size 432x288 with 1 Axes>"
      ]
     },
     "metadata": {
      "needs_background": "light"
     },
     "output_type": "display_data"
    },
    {
     "name": "stdout",
     "output_type": "stream",
     "text": [
      "9\n",
      "S_avg= 1100\n",
      "s= 216\n",
      ">>>>>>>>>>>>>>>>>>>>>>>>>>>>>>>>>>>>>>>>>>>>>>>>>>>start-x 351 w= 24\n",
      "s= 1548\n",
      ">>>>>>>>>>>>>>>>>>>>>>>>>>>>>>>>>>>>>>>>>>>>>>>>>>>start-x 106 w= 43\n",
      "s= 180\n",
      ">>>>>>>>>>>>>>>>>>>>>>>>>>>>>>>>>>>>>>>>>>>>>>>>>>>start-x 347 w= 18\n",
      "s= 1406\n",
      ">>>>>>>>>>>>>>>>>>>>>>>>>>>>>>>>>>>>>>>>>>>>>>>>>>>start-x 174 w= 38\n",
      "s= 1344\n",
      ">>>>>>>>>>>>>>>>>>>>>>>>>>>>>>>>>>>>>>>>>>>>>>>>>>>start-x 56 w= 28\n",
      "s= 2736\n",
      ">>>>>>>>>>>>>>>>>>>>>>>>>>>>>>>>>>>>>>>>>>>>>>>>>>>start-x 293 w= 48\n",
      "s= 1372\n",
      ">>>>>>>>>>>>>>>>>>>>>>>>>>>>>>>>>>>>>>>>>>>>>>>>>>>start-x 13 w= 28\n",
      "s= 1479\n",
      ">>>>>>>>>>>>>>>>>>>>>>>>>>>>>>>>>>>>>>>>>>>>>>>>>>>start-x 254 w= 29\n",
      "s= 1100\n",
      ">>>>>>>>>>>>>>>>>>>>>>>>>>>>>>>>>>>>>>>>>>>>>>>>>>>start-x 415 w= 25\n",
      ">>>>>>>>> (28, 28, 3)\n",
      "(28, 28, 1)\n",
      ">>>>>>>>> (28, 28, 3)\n",
      "(28, 28, 1)\n",
      ">>>>>>>>> (28, 28, 3)\n",
      "(28, 28, 1)\n",
      ">>>>>>>>> (28, 28, 3)\n",
      "(28, 28, 1)\n",
      ">>>>>>>>> (28, 28, 3)\n",
      "(28, 28, 1)\n",
      ">>>>>>>>> (28, 28, 3)\n",
      "(28, 28, 1)\n",
      ">>>>>>>>> (28, 28, 3)\n",
      "(28, 28, 1)\n",
      ">>>>>>>>> (28, 28, 3)\n",
      "(28, 28, 1)\n",
      ">>>>>>>>> (28, 28, 3)\n",
      "(28, 28, 1)\n"
     ]
    },
    {
     "data": {
      "image/png": "[encoded data removed]",
      "text/plain": [
       "<Figure size 432x288 with 1 Axes>"
      ]
     },
     "metadata": {
      "needs_background": "light"
     },
     "output_type": "display_data"
    },
    {
     "name": "stdout",
     "output_type": "stream",
     "text": [
      "8\n",
      "S_avg= 1755\n",
      "s= 256\n",
      ">>>>>>>>>>>>>>>>>>>>>>>>>>>>>>>>>>>>>>>>>>>>>>>>>>>start-x 367 w= 32\n",
      "s= 1872\n",
      ">>>>>>>>>>>>>>>>>>>>>>>>>>>>>>>>>>>>>>>>>>>>>>>>>>>start-x 116 w= 52\n",
      "s= 280\n",
      ">>>>>>>>>>>>>>>>>>>>>>>>>>>>>>>>>>>>>>>>>>>>>>>>>>>start-x 198 w= 28\n",
      "s= 1911\n",
      ">>>>>>>>>>>>>>>>>>>>>>>>>>>>>>>>>>>>>>>>>>>>>>>>>>>start-x 312 w= 39\n",
      "s= 363\n",
      ">>>>>>>>>>>>>>>>>>>>>>>>>>>>>>>>>>>>>>>>>>>>>>>>>>>start-x 368 w= 33\n",
      "s= 4366\n",
      ">>>>>>>>>>>>>>>>>>>>>>>>>>>>>>>>>>>>>>>>>>>>>>>>>>>start-x 24 w= 59\n",
      "s= 1650\n",
      ">>>>>>>>>>>>>>>>>>>>>>>>>>>>>>>>>>>>>>>>>>>>>>>>>>>start-x 262 w= 30\n",
      "s= 1755\n",
      ">>>>>>>>>>>>>>>>>>>>>>>>>>>>>>>>>>>>>>>>>>>>>>>>>>>start-x 445 w= 27\n",
      ">>>>>>>>> (28, 28, 3)\n",
      "(28, 28, 1)\n",
      ">>>>>>>>> (28, 28, 3)\n",
      "(28, 28, 1)\n",
      ">>>>>>>>> (28, 28, 3)\n",
      "(28, 28, 1)\n",
      ">>>>>>>>> (28, 28, 3)\n",
      "(28, 28, 1)\n",
      ">>>>>>>>> (28, 28, 3)\n",
      "(28, 28, 1)\n",
      ">>>>>>>>> (28, 28, 3)\n",
      "(28, 28, 1)\n",
      ">>>>>>>>> (28, 28, 3)\n",
      "(28, 28, 1)\n",
      ">>>>>>>>> (28, 28, 3)\n",
      "(28, 28, 1)\n",
      "2\n",
      "1  |  0.99995685\n"
     ]
    },
    {
     "data": {
      "image/png": "[encoded data removed]",
      "text/plain": [
       "<Figure size 432x288 with 1 Axes>"
      ]
     },
     "metadata": {
      "needs_background": "light"
     },
     "output_type": "display_data"
    },
    {
     "name": "stdout",
     "output_type": "stream",
     "text": [
      "2  |  0.99923396\n"
     ]
    },
    {
     "data": {
      "image/png": "[encoded data removed]",
      "text/plain": [
       "<Figure size 432x288 with 1 Axes>"
      ]
     },
     "metadata": {
      "needs_background": "light"
     },
     "output_type": "display_data"
    },
    {
     "name": "stdout",
     "output_type": "stream",
     "text": [
      "x  |  0.99894494\n"
     ]
    },
    {
     "data": {
      "image/png": "[encoded data removed]",
      "text/plain": [
       "<Figure size 432x288 with 1 Axes>"
      ]
     },
     "metadata": {
      "needs_background": "light"
     },
     "output_type": "display_data"
    },
    {
     "name": "stdout",
     "output_type": "stream",
     "text": [
      "+  |  0.9985073\n"
     ]
    },
    {
     "data": {
      "image/png": "[encoded data removed]",
      "text/plain": [
       "<Figure size 432x288 with 1 Axes>"
      ]
     },
     "metadata": {
      "needs_background": "light"
     },
     "output_type": "display_data"
    },
    {
     "name": "stdout",
     "output_type": "stream",
     "text": [
      "3  |  0.99464345\n"
     ]
    },
    {
     "data": {
      "image/png": "[encoded data removed]",
      "text/plain": [
       "<Figure size 432x288 with 1 Axes>"
      ]
     },
     "metadata": {
      "needs_background": "light"
     },
     "output_type": "display_data"
    },
    {
     "name": "stdout",
     "output_type": "stream",
     "text": [
      "y  |  0.9713272\n"
     ]
    },
    {
     "data": {
      "image/png": "[encoded data removed]",
      "text/plain": [
       "<Figure size 432x288 with 1 Axes>"
      ]
     },
     "metadata": {
      "needs_background": "light"
     },
     "output_type": "display_data"
    },
    {
     "name": "stdout",
     "output_type": "stream",
     "text": [
      "-  |  0.99856746\n"
     ]
    },
    {
     "data": {
      "image/png": "[encoded data removed]",
      "text/plain": [
       "<Figure size 432x288 with 1 Axes>"
      ]
     },
     "metadata": {
      "needs_background": "light"
     },
     "output_type": "display_data"
    },
    {
     "name": "stdout",
     "output_type": "stream",
     "text": [
      "-  |  0.99990034\n"
     ]
    },
    {
     "data": {
      "image/png": "[encoded data removed]",
      "text/plain": [
       "<Figure size 432x288 with 1 Axes>"
      ]
     },
     "metadata": {
      "needs_background": "light"
     },
     "output_type": "display_data"
    },
    {
     "name": "stdout",
     "output_type": "stream",
     "text": [
      "8  |  0.99998665\n"
     ]
    },
    {
     "data": {
      "image/png": "[encoded data removed]",
      "text/plain": [
       "<Figure size 432x288 with 1 Axes>"
      ]
     },
     "metadata": {
      "needs_background": "light"
     },
     "output_type": "display_data"
    },
    {
     "name": "stdout",
     "output_type": "stream",
     "text": [
      "4  |  0.99998987\n"
     ]
    },
    {
     "data": {
      "image/png": "[encoded data removed]",
      "text/plain": [
       "<Figure size 432x288 with 1 Axes>"
      ]
     },
     "metadata": {
      "needs_background": "light"
     },
     "output_type": "display_data"
    },
    {
     "name": "stdout",
     "output_type": "stream",
     "text": [
      "x  |  0.99639064\n"
     ]
    },
    {
     "data": {
      "image/png": "[encoded data removed]",
      "text/plain": [
       "<Figure size 432x288 with 1 Axes>"
      ]
     },
     "metadata": {
      "needs_background": "light"
     },
     "output_type": "display_data"
    },
    {
     "name": "stdout",
     "output_type": "stream",
     "text": [
      "-  |  0.9999547\n"
     ]
    },
    {
     "data": {
      "image/png": "[encoded data removed]",
      "text/plain": [
       "<Figure size 432x288 with 1 Axes>"
      ]
     },
     "metadata": {
      "needs_background": "light"
     },
     "output_type": "display_data"
    },
    {
     "name": "stdout",
     "output_type": "stream",
     "text": [
      "5  |  0.9999778\n"
     ]
    },
    {
     "data": {
      "image/png": "[encoded data removed]",
      "text/plain": [
       "<Figure size 432x288 with 1 Axes>"
      ]
     },
     "metadata": {
      "needs_background": "light"
     },
     "output_type": "display_data"
    },
    {
     "name": "stdout",
     "output_type": "stream",
     "text": [
      "y  |  0.98177415\n"
     ]
    },
    {
     "data": {
      "image/png": "[encoded data removed]",
      "text/plain": [
       "<Figure size 432x288 with 1 Axes>"
      ]
     },
     "metadata": {
      "needs_background": "light"
     },
     "output_type": "display_data"
    },
    {
     "name": "stdout",
     "output_type": "stream",
     "text": [
      "-  |  0.9999939\n"
     ]
    },
    {
     "data": {
      "image/png": "[encoded data removed]",
      "text/plain": [
       "<Figure size 432x288 with 1 Axes>"
      ]
     },
     "metadata": {
      "needs_background": "light"
     },
     "output_type": "display_data"
    },
    {
     "name": "stdout",
     "output_type": "stream",
     "text": [
      "-  |  0.99998593\n"
     ]
    },
    {
     "data": {
      "image/png": "[encoded data removed]",
      "text/plain": [
       "<Figure size 432x288 with 1 Axes>"
      ]
     },
     "metadata": {
      "needs_background": "light"
     },
     "output_type": "display_data"
    },
    {
     "name": "stdout",
     "output_type": "stream",
     "text": [
      "6  |  0.8175574\n"
     ]
    },
    {
     "data": {
      "image/png": "[encoded data removed]",
      "text/plain": [
       "<Figure size 432x288 with 1 Axes>"
      ]
     },
     "metadata": {
      "needs_background": "light"
     },
     "output_type": "display_data"
    },
    {
     "name": "stdout",
     "output_type": "stream",
     "text": [
      "Before: 12x+3y--8 4x-5y--6>>>> After: 12x+3y=8 4x-5y=6\n",
      "12x+3y=8 4x-5y=6\n",
      "['12x+3y=8', '4x-5y=6']\n",
      "list equation: ['+12*x+3*y-8', '+4*x-5*y-6']\n",
      "{'url': '/pngs/03a7a1ac7d08d8c1cdadcc72c9a0da4f.png', 'result-message': 'success', 'result-code': 0}\n",
      "{'url': '/pngs/9892459283a5cc9457eafbb42360d6e0.png', 'result-message': 'success', 'result-code': 0}\n"
     ]
    },
    {
     "name": "stderr",
     "output_type": "stream",
     "text": [
      "127.0.0.1 - - [27/Jan/2021 14:59:14] \"\u001b[37mPOST /process HTTP/1.1\u001b[0m\" 200 -\n",
      "127.0.0.1 - - [27/Jan/2021 14:59:14] \"\u001b[37mPOST /process HTTP/1.1\u001b[0m\" 200 -\n",
      "127.0.0.1 - - [27/Jan/2021 14:59:14] \"\u001b[37mGET /static/single_eq/1611734349/0.jpg HTTP/1.1\u001b[0m\" 200 -\n",
      "127.0.0.1 - - [27/Jan/2021 14:59:14] \"\u001b[37mGET /static/single_eq/1611734349/0.jpg HTTP/1.1\u001b[0m\" 200 -\n"
     ]
    },
    {
     "name": "stdout",
     "output_type": "stream",
     "text": [
      "{'url': '/pngs/6fc19692411e9777750211be6fca00f1.png', 'result-message': 'success', 'result-code': 0}\n",
      "['( x = \\\\frac{29}{36} , y = - \\\\frac{5}{9} )']\n"
     ]
    },
    {
     "name": "stderr",
     "output_type": "stream",
     "text": [
      "127.0.0.1 - - [27/Jan/2021 14:59:14] \"\u001b[37mGET /static/single_eq/1611734349/1.jpg HTTP/1.1\u001b[0m\" 200 -\n",
      "127.0.0.1 - - [27/Jan/2021 14:59:14] \"\u001b[37mGET /static/single_eq/1611734349/1.jpg HTTP/1.1\u001b[0m\" 200 -\n"
     ]
    }
   ],
   "source": [
    "from flask import Flask, flash, request, redirect, url_for, render_template, send_from_directory, send_file, Markup,jsonify\n",
    "from IPython.display import clear_output\n",
    "import json\n",
    "from werkzeug.utils import secure_filename\n",
    "app  = Flask(__name__, template_folder= 'templates' )\n",
    "UPLOAD_FOLDER = r'static\\uploads'\n",
    "app.secret_key = \"secret key\"\n",
    "app.config['UPLOAD_FOLDER'] = UPLOAD_FOLDER\n",
    "app.config['MAX_CONTENT_LENGTH'] = 16 * 1024 * 1024\n",
    "ALLOWED_EXTENSIONS = {'txt', 'pdf', 'png', 'jpg', 'jpeg', 'gif'}\n",
    "\n",
    "def allowed_file(filename):\n",
    "    return '.' in filename and \\\n",
    "           filename.rsplit('.', 1)[1].lower() in ALLOWED_EXTENSIONS\n",
    "\n",
    "@app.route('/upload', methods=['GET', 'POST'])\n",
    "def upload_file():\n",
    "    if request.method == 'POST':\n",
    "        if 'file' not in request.files:\n",
    "            flash('No file part')\n",
    "            return redirect(request.url)\n",
    "        file = request.files['file']\n",
    "        save_path=\"\"\n",
    "        if file and allowed_file(file.filename):\n",
    "            filename = secure_filename(file.filename)\n",
    "            save_path=os.path.join(app.config['UPLOAD_FOLDER'], filename)\n",
    "            file.save(save_path)\n",
    "    return save_path\n",
    "\n",
    "@app.route('/')\n",
    "def home(): \n",
    "    return render_template(\"index.html\")\n",
    "@app.route('/process', methods=['POST'])\n",
    "def process():\n",
    "    torch.cuda.empty_cache()\n",
    "    clear_output()\n",
    "    try:\n",
    "        data = json.loads(request.data)\n",
    "        print(\"hahahahaha\",data.get('choice'))\n",
    "        filename=data.get('filename')\n",
    "        if(data.get('choice')==1):\n",
    "            print(\"##################### Using findContours() to detect the characters #####################\")\n",
    "        else:\n",
    "            print(\"##################### Using yoloV5 detect the characters #####################\")\n",
    "        print(filename)\n",
    "        image_path = (filename)\n",
    "        if(data.get('choice')==0):\n",
    "            crop_chars=getBounding(image_path)\n",
    "            ims=preprocessingImgs(crop_chars[0])\n",
    "        else:\n",
    "            crop_chars=getBounding2(image_path)\n",
    "            ims=preprocessingImgs2(crop_chars[0])\n",
    "        print(len(ims))\n",
    "        ims_arr=classify(ims,data.get('choice'))\n",
    "        print(ims_arr)\n",
    "        res=eq_solver(ims_arr)\n",
    "        res_latex=convertToLatext(res[0])\n",
    "        equations_latex=[convertToLatext(i) for i in ims_arr]\n",
    "        print(res)\n",
    "    except:\n",
    "        return jsonify({\"status\":0,\"result\":res_latex,\"func\":ims_arr,\"single_eq\":crop_chars[1],\"equations_latex\":equations_latex})\n",
    "        torch.cuda.empty_cache()\n",
    "        pass\n",
    "#     print(single_eq)\n",
    "    return jsonify({\"status\":1,\"result\":res_latex,\"func\":ims_arr,\"single_eq\":crop_chars[1],\"equations_latex\":equations_latex})\n",
    "if __name__ == \"__main__\" :\n",
    "    app.run(host= '0.0.0.0', port=80)"
   ]
  },
  {
   "cell_type": "markdown",
   "metadata": {},
   "source": [
    "### USING COUNTOURS TO DETECT CHARACTERS"
   ]
  },
  {
   "cell_type": "code",
   "execution_count": null,
   "metadata": {},
   "outputs": [],
   "source": [
    "# def cropChar_using_Countours(path):\n",
    "#     %matplotlib inline\n",
    "#     image=cv2.imread(path,cv2.COLOR_BGR2GRAY)\n",
    "#     image=rgb2gray(image)\n",
    "#     yen_threshold = threshold_yen(image)\n",
    "#     image = rescale_intensity(image, (0, yen_threshold), (0, 255))\n",
    "#     thresh = 230\n",
    "#     image = cv2.threshold(image, thresh, 255, cv2.THRESH_BINARY_INV)[1]\n",
    "#     plt.imshow(image)\n",
    "#     plt.show()\n",
    "# ######################################################################################################################3\n",
    "#     cv2.imwrite(path,image)\n",
    "#     image = cv2.imread(path)\n",
    "#     im_gray = cv2.cvtColor(image,cv2.COLOR_BGR2GRAY)\n",
    "#     im_blur = cv2.GaussianBlur(im_gray,(5,5),0)\n",
    "#     im,thre = cv2.threshold(im_blur,100,255,cv2.THRESH_BINARY)\n",
    "#     contours,hierachy = cv2.findContours(thre,cv2.RETR_EXTERNAL,cv2.CHAIN_APPROX_SIMPLE)\n",
    "#     rects = [cv2.boundingRect(cnt) for cnt in contours]\n",
    "#     # print(len(rects))\n",
    "#     # rects,weights = cv2.groupRectangles(rects, 1, 1.75)\n",
    "#     print(len(rects))\n",
    "#     # print(contours)\n",
    "#     cropimg=[]\n",
    "#     image_c=image.copy()\n",
    "#     temp={}\n",
    "#     crop_chars=[]\n",
    "#     s=0\n",
    "#     for i in rects:\n",
    "#         (x,y,w,h) = i\n",
    "#         s=s+h*w\n",
    "#     s=s/len(rects)\n",
    "#     print(\"S_avg=\",h*w)\n",
    "#     for i in rects:\n",
    "#         (x,y,w,h) = i\n",
    "#         if(w*h>s*1/10):\n",
    "#             print(\"s=\",w*h)\n",
    "#             crop = image_c[y:y+h,x:x+w]\n",
    "# #             plt.imshow(crop)\n",
    "# #             plt.show()\n",
    "#             cropimg.append(crop)\n",
    "# #     j=[int(k) for k in j]\n",
    "#             temp[x]=image_c[y:y+h,x:x+w].copy()\n",
    "# #     plt.imshow(image)\n",
    "# #     plt.show()\n",
    "#     od = collections.OrderedDict(sorted(temp.items()))    \n",
    "#     for k,v in od.items(): \n",
    "#         crop_chars.append(v)\n",
    "#     crops=[]\n",
    "#     count=0\n",
    "#     for i in crop_chars:\n",
    "#         height, width,_ = i.shape\n",
    "#         pad=10\n",
    "#         if(width>height):\n",
    "#             left=right=pad\n",
    "#             top=bottom=int((width+2*pad-height)/2)\n",
    "#         else:\n",
    "#             top=bottom=pad\n",
    "#             left=right=int((height+2*pad-width)/2)\n",
    "#         hhh = cv2.copyMakeBorder( i, top, bottom, left, right, cv2.BORDER_CONSTANT)\n",
    "#         h,w,_=hhh.shape\n",
    "#         s=max(h,w)\n",
    "#         hhh=cv2.resize(hhh,(s,s))\n",
    "#         hhh=cv2.resize(hhh,(28,28))\n",
    "#         tuankq=hhh\n",
    "#         count=count+1\n",
    "#         print(\">>>>>>>>>\",hhh.shape)\n",
    "#         __=cv2.cvtColor(hhh,cv2.COLOR_RGBA2GRAY)\n",
    "#         __=np.reshape(__,(28,28,1))\n",
    "# #         new_array = cv2.resize(new_array, (28,28,1))\n",
    "# #         __=np.reshape(hhh,(28,28,1))\n",
    "#         print(__.shape)\n",
    "#         crops.append(__)\n",
    "# #         plt.imshow(hhh)\n",
    "# #         plt.show()\n",
    "#     return crops\n",
    "# import re as regex\n",
    "# def validate(test):\n",
    "#     _test=test\n",
    "# #     test=\"x+2y=3 2z-3y--1\"\n",
    "#     #######################################valid x=z#######################################\n",
    "#     # for i in range(len(test)):\n",
    "#     #     if(test[i].isalpha()):\n",
    "#     #         variables[test[i]]=test.count(test[i])\n",
    "# #     numbers_of_variables=len(list(variables))\n",
    "#     numbers_of_valid_variables=len(test.split())\n",
    "#     # print(variables)\n",
    "#     if(numbers_of_valid_variables==2):\n",
    "#         test=test.replace('z','x')\n",
    "#         test=test.replace('4=','y=')\n",
    "#     #######################################valid = and -#######################################\n",
    "#     equations=test.split()\n",
    "#     for i in range(len(equations)):\n",
    "#         ######################################3\n",
    "#         if('--' in equations[i]):\n",
    "#             equations[i]=equations[i].replace('--','=')\n",
    "#          ######################################3\n",
    "#         if('==' in equations[i]):\n",
    "#             equations[i]=equations[i].replace('==','=')\n",
    "#          ######################################3\n",
    "#         if('-=' in equations[i]):\n",
    "#             equations[i]=equations[i].replace('-=','=')\n",
    "#          ######################################3\n",
    "#         if('=' not in equations[i]):\n",
    "#             temp=list(equations[i])\n",
    "#             temp[equations[i].rfind('-')]='='\n",
    "#             equations[i]=''.join(temp)\n",
    "#          ######################################3\n",
    "#         while(equations[i].endswith('+') or equations[i].endswith('-') or equations[i].endswith('=')):\n",
    "#             equations[i]=equations[i][:-1]\n",
    "#         while(equations[i].startswith('+') or equations[i].endswith('-') or equations[i].endswith('=')):\n",
    "#             equations[i]=equations[i][1:]\n",
    "#          ######################################3\n",
    "#         MATCH_INVALID=regex.findall('(?:x|y|z)[0-9]',equations[i])\n",
    "#         for c in MATCH_INVALID:\n",
    "#             while(c in equations[i]):\n",
    "#                 equations[i]=equations[i].replace(c,c[:-1])\n",
    "#     test=' '.join(equations)\n",
    "#     print(\"Before: \"+_test+\">>>> After: \"+test)\n",
    "#     return test\n",
    "# def getBounding(path):\n",
    "#     %matplotlib inline\n",
    "#     count=0\n",
    "#     abc=predict(r'weights\\eq_detection\\equations_detection-2912.pt',path,0.72)\n",
    "#     image = cv2.imread(path, cv2.COLOR_BGR2RGB)\n",
    "#     image1= cv2.imread(path, cv2.COLOR_BGR2RGB)\n",
    "#     plt.imshow(image)\n",
    "#     plt.show()\n",
    "#     xs=[]\n",
    "#     ys=[]\n",
    "#     crop_img=[]\n",
    "#     color=(255,255,0)\n",
    "#     ###########################\n",
    "#     #Print each equations:\n",
    "#     for i in abc:\n",
    "#         i=[int(j) for j in i]\n",
    "#         xs+=[i[0],i[2]]\n",
    "#         ys+=[i[1],i[3]]\n",
    "#         crop_img.append(image1[i[1]:i[3],i[0]:i[2]].copy())\n",
    "#         image = cv2.rectangle(image, (i[0],i[1]), (i[2],i[3]), color, 3) \n",
    "#     count=0\n",
    "#     rd=str(int(time.time()))\n",
    "#     foldername=r\"C:/Users/tuankq/Desktop/CV_Final_Project/eq_detection/yolov5/static/single_eq/\"\n",
    "#     currentpath=foldername+rd\n",
    "#     os.makedirs(currentpath)\n",
    "#     for i in crop_img:\n",
    "#         im = Image.fromarray(i)\n",
    "#         im.save(currentpath+'/'+str(count)+\".jpg\")\n",
    "#         count+=1\n",
    "#     crop_chars=[]  \n",
    "#     print(currentpath)\n",
    "#     for i in os.listdir(currentpath):\n",
    "#         crop_chars.append(cropChar_using_Countours(currentpath+'/'+i))\n",
    "#     return crop_chars,['static/single_eq/'+rd+'/'+str(i)+'.jpg' for i in range(count)]\n",
    "\n",
    "# from skimage.filters import threshold_yen\n",
    "# from skimage.exposure import rescale_intensity\n",
    "# from skimage.io import imread, imsave\n",
    "# import matplotlib.pyplot as plt\n",
    "# import cv2\n",
    "# import os\n",
    "# import numpy as np\n",
    "\n",
    "# def preprocessingImgs(crop_imgs):\n",
    "#     ims=[]\n",
    "#     for i in crop_imgs:\n",
    "#         temp=[]\n",
    "#         for j in i:\n",
    "#             temp.append(j)\n",
    "#         ims.append(temp)\n",
    "#     return [np.array(i) for i in ims]"
   ]
  },
  {
   "cell_type": "code",
   "execution_count": null,
   "metadata": {},
   "outputs": [],
   "source": [
    "im=plt.imread(r'1609336878.jpg')\n",
    "plt.imshow(im[0:400,0:800])"
   ]
  },
  {
   "cell_type": "code",
   "execution_count": null,
   "metadata": {},
   "outputs": [],
   "source": []
  },
  {
   "cell_type": "code",
   "execution_count": null,
   "metadata": {},
   "outputs": [],
   "source": []
  }
 ],
 "metadata": {
  "kernelspec": {
   "display_name": "Python 3",
   "language": "python",
   "name": "python3"
  },
  "language_info": {
   "codemirror_mode": {
    "name": "ipython",
    "version": 3
   },
   "file_extension": ".py",
   "mimetype": "text/x-python",
   "name": "python",
   "nbconvert_exporter": "python",
   "pygments_lexer": "ipython3",
   "version": "3.8.5"
  }
 },
 "nbformat": 4,
 "nbformat_minor": 4
}
